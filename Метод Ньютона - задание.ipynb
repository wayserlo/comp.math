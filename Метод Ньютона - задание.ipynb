{
 "cells": [
  {
   "cell_type": "markdown",
   "metadata": {},
   "source": [
    "### Метод Ньютона"
   ]
  },
  {
   "cell_type": "markdown",
   "metadata": {},
   "source": [
    "Задание\n",
    "\n",
    "1. ответить на все вопросы в скрипте\n",
    "2. изменить код метода Ньютона так, чтобы он смог разрешать все проблемные случаи, возникающие в скрипте, продемонстрировать это, объяснить почему модификация решает проблему. Проблемы - нулевая производная, кратные корни, биения. Для кратных корней надо так модифицировать метод, чтобы порядок оставался вторым и продемонстрировать это.\n",
    "\n",
    "ВАЖНО! Модифицированный метод Ньютона должен получаться путем добавления новых строчек в simple_newton, а не переписыванием его с нуля. Новые строчки надо прокомментировать, зачем они были добавлены."
   ]
  },
  {
   "cell_type": "code",
   "execution_count": 48,
   "metadata": {},
   "outputs": [],
   "source": [
    "# простая реализация Метода Ньютона\n",
    "%matplotlib inline \n",
    "import matplotlib.pyplot as plt\n",
    "import numpy as np\n",
    "\n",
    "def simple_newton(func, dfunc, x, tol = 1e-12):\n",
    "    sol = 0\n",
    "    iteration = 0\n",
    "    dxs = []\n",
    "    for i in range(30):\n",
    "        iteration += 1\n",
    "        dx = -func(x)/dfunc(x)\n",
    "        dxs.append(abs(dx))\n",
    "        x = x + dx\n",
    "        if abs(dx) < tol:\n",
    "            sol = x\n",
    "            return [sol, iteration, dxs]\n",
    "    sol = float('nan')\n",
    "    print('More then 30 iterations!')\n",
    "    return [sol, iteration]"
   ]
  },
  {
   "cell_type": "code",
   "execution_count": 49,
   "metadata": {},
   "outputs": [],
   "source": [
    "# модифицированный\n",
    "\n",
    "#в первую очередь проблемы с областью сходимости, потому что метод Ньютона не гарантирует глобальную сходимость\n",
    "#как я понимаю, работать должно для любых функций, но я не знаю как это сделать (это вообще разве реально,  если у нас нет глобальной сходимости?)\n",
    "#я решила искать доверительные интервалы, а точнее, найти интервал, что f(x_n)f(b)<0 и там брать новое значение x_n\n",
    "#от кратных корней нам будут помогать два параметра q_n = (x_{n+1}-x_n)/(x_n-x_{n-1}) и p_n = 1/(1-q_n), которые на каждой итерации n вычисляют кратность корня p (p_n --> p)\n",
    "def check(func, dfunc, x): #эта функция ищет другое начальное значение, если в нашем случайно произошло обнуление. Ищет неоптимально, потому что только проверяет значение на концах, но я смогла учесть все изменения производных, поэтому пришлось ограничить так сильно\n",
    "    k=0\n",
    "    while k <=10:\n",
    "        if func(x) * func(x+k) < 0:\n",
    "            return (x+x+k)/2\n",
    "        k = +1\n",
    "    k=0\n",
    "    while k <=10:\n",
    "        if func(x) * func(x-k) < 0:\n",
    "            return (x+x-k)/2\n",
    "        k = +1\n",
    "    return x\n",
    "    #если функция не смогла найти другую точку, то мы заканчиваем работу с выводом плохое приближение\n",
    "\n",
    "def modify_newton(func, dfunc, x, tol = 1e-12):\n",
    "    sol = 0\n",
    "    iteration = 0\n",
    "    dxs = []\n",
    "    q_0 = 0\n",
    "    q_1 = 0\n",
    "    p = 0\n",
    "    for i in range(30):\n",
    "        iteration += 1\n",
    "        if dfunc(x) == 0:\n",
    "            if check(func, dfunc, x) == x:\n",
    "                sol = float('nan')\n",
    "                print('bad initial guess')\n",
    "                return [sol, iteration]\n",
    "            else:\n",
    "                x = check(func, dfunc, x)\n",
    "        dx = -func(x)/dfunc(x)\n",
    "        dxs.append(abs(dx))\n",
    "        if iteration == 1: #потому что нижняя разность для вычисления q еще не определена\n",
    "            p = 1\n",
    "        else:\n",
    "            q_0 = q_1\n",
    "            q_1 = dxs[i-1]/dxs[i-2]\n",
    "            if abs(q_1-q_0) < 1e-12:\n",
    "                p = 1/(1-q_1)\n",
    "            else: p = 1\n",
    "        x = x + p * dx  #соображения те же, что и в методе Ньютона. Я не проверяю при этом сходимость q и p, а по-хорошему нужно. Пришлось изменить эту вашу строчку,, одну всего\n",
    "        if abs(dx) < tol:\n",
    "            sol = x\n",
    "            return [sol, iteration, dxs]\n",
    "    sol = float('nan')\n",
    "    print('More then 30 iterations!')\n",
    "    return [sol, iteration]"
   ]
  },
  {
   "cell_type": "markdown",
   "metadata": {},
   "source": [
    "#### Нелинейное уравнение 1"
   ]
  },
  {
   "cell_type": "code",
   "execution_count": 50,
   "metadata": {},
   "outputs": [
    {
     "data": {
      "text/plain": [
       "[<matplotlib.lines.Line2D at 0x11747c310>]"
      ]
     },
     "execution_count": 50,
     "metadata": {},
     "output_type": "execute_result"
    },
    {
     "data": {
      "image/png": "[encoded data removed]",
      "text/plain": [
       "<Figure size 432x288 with 1 Axes>"
      ]
     },
     "metadata": {
      "needs_background": "light"
     },
     "output_type": "display_data"
    }
   ],
   "source": [
    "x = np.linspace(-2,10)\n",
    "func0 = lambda x: x**3 - 10*x**2 + 5\n",
    "dfunc0 = lambda x: 3*x**2 - 20*x\n",
    "y = func0(x)\n",
    "plt.plot(x, y)"
   ]
  },
  {
   "cell_type": "markdown",
   "metadata": {},
   "source": [
    "1. Объяснить, почему различаются результаты в случае 1 и 2 \n",
    "\n",
    "    Результаты различаются потому что нахождение корней определяется локальной сходимостью, т.е. напрямую зависят от начального приближения, поэтому в первому случае он находит корень, ближайший к 8, а во втором - к 0.7\n",
    "    \n",
    "2. Объяснить, что происходит в случае 3\n",
    "\n",
    "    В третьем случае мы начинаем со стационарной точки, в которой производная равна нулю. Поэтому исходный код simple_newton не работает - внутри кода мы делим на производную. В моем модифицированном коде мы идем сначала вправо и находим ближайщий отрезок где $f(x) * f(b)<0$. Если находим за десять проходов (при этом каждый раз $b = x+k, 0< k\\leq 10$), то берем середину отрезка $(b+x)/2$ в качестве $x$ и продолжаем алгоритм, если не находм справа, то ищем слева, если нигде не находим, то говорим, что приближение плохое. Для улучшения, возможно нужно меньше взять шаг $k$ и увеличить число итераций\n"
   ]
  },
  {
   "cell_type": "code",
   "execution_count": 51,
   "metadata": {},
   "outputs": [
    {
     "name": "stdout",
     "output_type": "stream",
     "text": [
      "sol =  9.949491057914388\n",
      "iter =  7\n"
     ]
    }
   ],
   "source": [
    "data = modify_newton(func0, dfunc0, 8) # случай 1\n",
    "#data = modify_newton(func0, dfunc0, 0.7) # случай 2\n",
    "#data = modify_newton(func0, dfunc0, 0.0) # случай 3\n",
    "print('sol = ', data[0])\n",
    "print('iter = ', data[1])"
   ]
  },
  {
   "cell_type": "markdown",
   "metadata": {},
   "source": [
    "3. Построить график порядка сходимости от номера итерации. Объяснить результат\n",
    "    \n",
    "    За сходимость отвечает $dxs[]$, т.к. в ней лежат $dx$ на каждой итерации. Оценим нашу погрешность на $n+1$ итерации (расписывала на листочке у себя)\n",
    "    $$ |x_{n+1}-x^*| \\leq \\alpha |x_n - x^*|^2 \\leq \\cdot \\leq \\alpha^{2^{n+1}-1}|x_0-x^*|^{2^n} $$\n",
    "    т.е. теперь наша погрешность зависит и от $\\alpha$ и от $|x_0-x^*|$ как степенная в степенной, т.е. если произведение $\\alpha |x_0-x^*| < 1$, то наше решение будет сходиться. При этом будет очень быстро убывать. На рисунке будет график для первого случая (при желании можно заменить, если заменить вызываемый случай) и еще приведу график $y = 0.7^{2^x}$, 0.7 беру просто для примера, т.к. 0.7 < 1 (0.7 в данном случае символизирует $\\alpha|x_0-x^*|$. Видим, что у графиков только минимальные различия вначале, где еще влияет то, что в настоящей оценке у $\\alpha$ степень двойки $n+1$, а не $n$, и еще есть степень $-1$. Можно посмотреть на другие графики, поизменять $0.7$ - самое главное, что характер убывания одинаковый"
   ]
  },
  {
   "cell_type": "code",
   "execution_count": 52,
   "metadata": {},
   "outputs": [
    {
     "data": {
      "text/plain": [
       "[<matplotlib.lines.Line2D at 0x1174da520>]"
      ]
     },
     "execution_count": 52,
     "metadata": {},
     "output_type": "execute_result"
    },
    {
     "data": {
      "image/png": "[encoded data removed]",
      "text/plain": [
       "<Figure size 432x288 with 1 Axes>"
      ]
     },
     "metadata": {
      "needs_background": "light"
     },
     "output_type": "display_data"
    }
   ],
   "source": [
    "x = np.linspace(1,data[1], data[1])\n",
    "y = data[2]\n",
    "plt.plot(x, y)"
   ]
  },
  {
   "cell_type": "code",
   "execution_count": 53,
   "metadata": {},
   "outputs": [
    {
     "data": {
      "text/plain": [
       "[<matplotlib.lines.Line2D at 0x11754e280>]"
      ]
     },
     "execution_count": 53,
     "metadata": {},
     "output_type": "execute_result"
    },
    {
     "data": {
      "image/png": "[encoded data removed]",
      "text/plain": [
       "<Figure size 432x288 with 1 Axes>"
      ]
     },
     "metadata": {
      "needs_background": "light"
     },
     "output_type": "display_data"
    }
   ],
   "source": [
    "x = np.linspace(1,data[1], data[1])\n",
    "y = 0.7 ** (2 ** x)\n",
    "plt.plot(x, y)"
   ]
  },
  {
   "cell_type": "markdown",
   "metadata": {},
   "source": [
    "#### Нелинейное уравнение 2"
   ]
  },
  {
   "cell_type": "code",
   "execution_count": 55,
   "metadata": {},
   "outputs": [
    {
     "data": {
      "text/plain": [
       "[<matplotlib.lines.Line2D at 0x1175b7070>]"
      ]
     },
     "execution_count": 55,
     "metadata": {},
     "output_type": "execute_result"
    },
    {
     "data": {
      "image/png": "[encoded data removed]",
      "text/plain": [
       "<Figure size 432x288 with 1 Axes>"
      ]
     },
     "metadata": {
      "needs_background": "light"
     },
     "output_type": "display_data"
    }
   ],
   "source": [
    "x = np.linspace(0,5)\n",
    "func1 = lambda x: x**4 - 6.4*x**3 + 6.45*x**2 + 20.538*x - 31.752 #double root\n",
    "dfunc1 = lambda x: 4.0*x**3 - 19.2*x**2 + 12.9*x + 20.538\n",
    "y = func1(x)\n",
    "plt.plot(x, y)"
   ]
  },
  {
   "cell_type": "markdown",
   "metadata": {},
   "source": [
    "1. Построить график порядка сходимости от номера итерации. Объяснить результат"
   ]
  },
  {
   "cell_type": "code",
   "execution_count": 56,
   "metadata": {},
   "outputs": [
    {
     "name": "stdout",
     "output_type": "stream",
     "text": [
      "sol =  2.0999999786199406\n",
      "iter =  23\n"
     ]
    }
   ],
   "source": [
    "data = modify_newton(func1, dfunc1, 2.0)\n",
    "print('sol = ', data[0])\n",
    "print('iter = ', data[1])"
   ]
  },
  {
   "cell_type": "code",
   "execution_count": 57,
   "metadata": {},
   "outputs": [
    {
     "data": {
      "text/plain": [
       "[<matplotlib.lines.Line2D at 0x11760f790>]"
      ]
     },
     "execution_count": 57,
     "metadata": {},
     "output_type": "execute_result"
    },
    {
     "data": {
      "image/png": "[encoded data removed]",
      "text/plain": [
       "<Figure size 432x288 with 1 Axes>"
      ]
     },
     "metadata": {
      "needs_background": "light"
     },
     "output_type": "display_data"
    }
   ],
   "source": [
    "x = np.linspace(1,data[1], data[1])\n",
    "y = data[2]\n",
    "plt.plot(x, y)"
   ]
  },
  {
   "cell_type": "markdown",
   "metadata": {},
   "source": [
    "#### Нелинейное уравнение 3"
   ]
  },
  {
   "cell_type": "code",
   "execution_count": 58,
   "metadata": {},
   "outputs": [
    {
     "data": {
      "text/plain": [
       "[<matplotlib.lines.Line2D at 0x117670880>]"
      ]
     },
     "execution_count": 58,
     "metadata": {},
     "output_type": "execute_result"
    },
    {
     "data": {
      "image/png": "[encoded data removed]",
      "text/plain": [
       "<Figure size 432x288 with 1 Axes>"
      ]
     },
     "metadata": {
      "needs_background": "light"
     },
     "output_type": "display_data"
    }
   ],
   "source": [
    "x = np.linspace(0,2)\n",
    "func2 = lambda x: (x-1)**3\n",
    "dfunc2 = lambda x: 3*(x-1)**2\n",
    "y = func2(x)\n",
    "plt.plot(x, y)"
   ]
  },
  {
   "cell_type": "markdown",
   "metadata": {},
   "source": [
    "1. Подобрать начальное приближение и решить задачу"
   ]
  },
  {
   "cell_type": "code",
   "execution_count": 59,
   "metadata": {},
   "outputs": [
    {
     "ename": "ZeroDivisionError",
     "evalue": "division by zero",
     "output_type": "error",
     "traceback": [
      "\u001b[0;31m---------------------------------------------------------------------------\u001b[0m",
      "\u001b[0;31mZeroDivisionError\u001b[0m                         Traceback (most recent call last)",
      "\u001b[0;32m<ipython-input-59-00dc3656705e>\u001b[0m in \u001b[0;36m<module>\u001b[0;34m\u001b[0m\n\u001b[0;32m----> 1\u001b[0;31m \u001b[0mdata\u001b[0m \u001b[0;34m=\u001b[0m \u001b[0msimple_newton\u001b[0m\u001b[0;34m(\u001b[0m\u001b[0mfunc2\u001b[0m\u001b[0;34m,\u001b[0m \u001b[0mdfunc2\u001b[0m\u001b[0;34m,\u001b[0m \u001b[0;36m1\u001b[0m\u001b[0;34m)\u001b[0m\u001b[0;34m\u001b[0m\u001b[0;34m\u001b[0m\u001b[0m\n\u001b[0m\u001b[1;32m      2\u001b[0m \u001b[0mprint\u001b[0m\u001b[0;34m(\u001b[0m\u001b[0;34m'sol = '\u001b[0m\u001b[0;34m,\u001b[0m \u001b[0mdata\u001b[0m\u001b[0;34m[\u001b[0m\u001b[0;36m0\u001b[0m\u001b[0;34m]\u001b[0m\u001b[0;34m)\u001b[0m\u001b[0;34m\u001b[0m\u001b[0;34m\u001b[0m\u001b[0m\n\u001b[1;32m      3\u001b[0m \u001b[0mprint\u001b[0m\u001b[0;34m(\u001b[0m\u001b[0;34m'iter = '\u001b[0m\u001b[0;34m,\u001b[0m \u001b[0mdata\u001b[0m\u001b[0;34m[\u001b[0m\u001b[0;36m1\u001b[0m\u001b[0;34m]\u001b[0m\u001b[0;34m)\u001b[0m\u001b[0;34m\u001b[0m\u001b[0;34m\u001b[0m\u001b[0m\n",
      "\u001b[0;32m<ipython-input-48-d43db148734e>\u001b[0m in \u001b[0;36msimple_newton\u001b[0;34m(func, dfunc, x, tol)\u001b[0m\n\u001b[1;32m     10\u001b[0m     \u001b[0;32mfor\u001b[0m \u001b[0mi\u001b[0m \u001b[0;32min\u001b[0m \u001b[0mrange\u001b[0m\u001b[0;34m(\u001b[0m\u001b[0;36m30\u001b[0m\u001b[0;34m)\u001b[0m\u001b[0;34m:\u001b[0m\u001b[0;34m\u001b[0m\u001b[0;34m\u001b[0m\u001b[0m\n\u001b[1;32m     11\u001b[0m         \u001b[0miteration\u001b[0m \u001b[0;34m+=\u001b[0m \u001b[0;36m1\u001b[0m\u001b[0;34m\u001b[0m\u001b[0;34m\u001b[0m\u001b[0m\n\u001b[0;32m---> 12\u001b[0;31m         \u001b[0mdx\u001b[0m \u001b[0;34m=\u001b[0m \u001b[0;34m-\u001b[0m\u001b[0mfunc\u001b[0m\u001b[0;34m(\u001b[0m\u001b[0mx\u001b[0m\u001b[0;34m)\u001b[0m\u001b[0;34m/\u001b[0m\u001b[0mdfunc\u001b[0m\u001b[0;34m(\u001b[0m\u001b[0mx\u001b[0m\u001b[0;34m)\u001b[0m\u001b[0;34m\u001b[0m\u001b[0;34m\u001b[0m\u001b[0m\n\u001b[0m\u001b[1;32m     13\u001b[0m         \u001b[0mdxs\u001b[0m\u001b[0;34m.\u001b[0m\u001b[0mappend\u001b[0m\u001b[0;34m(\u001b[0m\u001b[0mabs\u001b[0m\u001b[0;34m(\u001b[0m\u001b[0mdx\u001b[0m\u001b[0;34m)\u001b[0m\u001b[0;34m)\u001b[0m\u001b[0;34m\u001b[0m\u001b[0;34m\u001b[0m\u001b[0m\n\u001b[1;32m     14\u001b[0m         \u001b[0mx\u001b[0m \u001b[0;34m=\u001b[0m \u001b[0mx\u001b[0m \u001b[0;34m+\u001b[0m \u001b[0mdx\u001b[0m\u001b[0;34m\u001b[0m\u001b[0;34m\u001b[0m\u001b[0m\n",
      "\u001b[0;31mZeroDivisionError\u001b[0m: division by zero"
     ]
    }
   ],
   "source": [
    "data = simple_newton(func2, dfunc2, 1)\n",
    "print('sol = ', data[0])\n",
    "print('iter = ', data[1])"
   ]
  },
  {
   "cell_type": "markdown",
   "metadata": {},
   "source": [
    "#### Нелинейное уравнение 4"
   ]
  },
  {
   "cell_type": "code",
   "execution_count": 60,
   "metadata": {},
   "outputs": [
    {
     "data": {
      "text/plain": [
       "[<matplotlib.lines.Line2D at 0x1176e2f10>]"
      ]
     },
     "execution_count": 60,
     "metadata": {},
     "output_type": "execute_result"
    },
    {
     "data": {
      "image/png": "[encoded data removed]",
      "text/plain": [
       "<Figure size 432x288 with 1 Axes>"
      ]
     },
     "metadata": {
      "needs_background": "light"
     },
     "output_type": "display_data"
    }
   ],
   "source": [
    "x = np.linspace(-0.5,1.5)\n",
    "#x = np.linspace(-5,5)\n",
    "func3 = lambda x: x**3 - 2*x + 2\n",
    "dfunc3 = lambda x: 3*x**2 - 2\n",
    "y = func3(x)\n",
    "plt.plot(x, y)"
   ]
  },
  {
   "cell_type": "markdown",
   "metadata": {},
   "source": [
    "1. Почему не находится решение во втором случае?"
   ]
  },
  {
   "cell_type": "code",
   "execution_count": 62,
   "metadata": {},
   "outputs": [
    {
     "name": "stdout",
     "output_type": "stream",
     "text": [
      "More then 30 iterations!\n",
      "sol =  nan\n",
      "iter =  30\n"
     ]
    }
   ],
   "source": [
    "#data = simple_newton(func3, dfunc3, 0.5) # случай 1\n",
    "data = simple_newton(func3, dfunc3, 0) # случай 2\n",
    "print('sol = ', data[0])\n",
    "print('iter = ', data[1])"
   ]
  },
  {
   "cell_type": "code",
   "execution_count": null,
   "metadata": {},
   "outputs": [],
   "source": []
  }
 ],
 "metadata": {
  "anaconda-cloud": {},
  "kernelspec": {
   "display_name": "Python 3",
   "language": "python",
   "name": "python3"
  },
  "language_info": {
   "codemirror_mode": {
    "name": "ipython",
    "version": 3
   },
   "file_extension": ".py",
   "mimetype": "text/x-python",
   "name": "python",
   "nbconvert_exporter": "python",
   "pygments_lexer": "ipython3",
   "version": "3.9.5"
  }
 },
 "nbformat": 4,
 "nbformat_minor": 1
}
