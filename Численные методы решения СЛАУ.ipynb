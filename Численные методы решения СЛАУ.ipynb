{
 "cells": [
  {
   "cell_type": "markdown",
   "metadata": {},
   "source": [
    "### Предварительные сведения"
   ]
  },
  {
   "cell_type": "markdown",
   "metadata": {},
   "source": [
    "Векторные нормы:\n",
    "\n",
    "$||u||_{\\infty} = \\max_i|u_i|$\n",
    "\n",
    "$||u||_1 = \\sum_i |u_i|$\n",
    "\n",
    "$||u||_2 = \\left(\\sum_i |u_i|^2 \\right)^{\\frac{1}{2}}$\n",
    "\n",
    "Матричные нормы:\n",
    "\n",
    "$||A||_{\\infty} = \\max_i \\sum_j |a_{ij}|$\n",
    "\n",
    "$||A||_1 = \\max_j \\sum_i |a_{ij}|$\n",
    "\n",
    "$||A||_2 = \\left(\\max_i \\lambda_i(A A^*) \\right)^{\\frac{1}{2}}$"
   ]
  },
  {
   "cell_type": "markdown",
   "metadata": {},
   "source": [
    "Контрольный вопрос: какова будет вторая норма матрицы, если матрица самосопряженная?\n",
    "\n",
    "*Ваш ответ на контрольный вопрос*: \n",
    "$$ ||A||_2 = \\max_i |\\lambda_i|$$\n",
    "Для эрмитовой матрицы $A$ существует базис из собственнных векторов, в котором данная матрица будет диагональной (на диагонали собственные числа). Если матрица самосопряженная $A = A^*$, то $AA^* = A^2$ или в диагональном представлении - матрица, на диагонали которой квадраты собсвенных чисел. А значит, при извлечении корня квадратного из максимального квадрата $\\lambda_i$ останется наше выражение."
   ]
  },
  {
   "cell_type": "code",
   "execution_count": 115,
   "metadata": {},
   "outputs": [
    {
     "name": "stdout",
     "output_type": "stream",
     "text": [
      "norm_1 =  5.0\n",
      "norm_2 =  4.844958524498339\n",
      "norm_inf =  7.0\n"
     ]
    },
    {
     "data": {
      "text/plain": [
       "array([[0, 0, 1],\n",
       "       [1, 1, 1],\n",
       "       [4, 2, 1]])"
      ]
     },
     "execution_count": 115,
     "metadata": {},
     "output_type": "execute_result"
    }
   ],
   "source": [
    "import numpy as np\n",
    "import numpy.linalg as la\n",
    "\n",
    "A = np.array([[1,2],[3,4]])\n",
    "v = range(0,3)\n",
    "Vander = np.vander(v)\n",
    "print('norm_1 = ', la.norm(Vander, 1))\n",
    "print('norm_2 = ', la.norm(Vander, 2))\n",
    "print('norm_inf = ', la.norm(Vander, np.inf))\n",
    "Vander"
   ]
  },
  {
   "cell_type": "markdown",
   "metadata": {},
   "source": [
    "Обусловленность:\n",
    "$$(A+\\delta A)u = f + \\delta f$$\n",
    "$$\\frac{||\\delta u||}{||u||}\\le \\frac{\\mu}{1-\\mu\\frac{||\\delta A||}{||A||}} \\left(\\frac{||\\delta f||}{||f||}+\\frac{||\\delta A||}{||A||}\\right)$$\n",
    "\n",
    "$\\mu$ - число обусловленности матрицы A, $\\mu(A) = ||A^{-1}||\\cdot||A||$, $\\mu \\ge 1$.\n",
    "\n"
   ]
  },
  {
   "cell_type": "markdown",
   "metadata": {},
   "source": [
    "## Пример проблемы использования метода Гаусса для решения СЛАУ"
   ]
  },
  {
   "cell_type": "code",
   "execution_count": 116,
   "metadata": {},
   "outputs": [],
   "source": [
    "import numpy as np\n",
    "import numpy.linalg as la\n",
    "\n",
    "def gauss( A, b ):\n",
    "    n = b.size\n",
    "    for k in range(0,n-1):\n",
    "        for i in range(k+1,n):\n",
    "            if A[i,k]!=0:\n",
    "                c = A[i,k]/A[k,k]\n",
    "                A[i,k+1:n] = A[i,k+1:n] - c*A[k,k+1:n]\n",
    "                b[i] = b[i] - c*b[k]\n",
    "                \n",
    "    # обратный ход\n",
    "    for k in range(n-1,-1,-1):\n",
    "        b[k] = (b[k] - np.dot(A[k,k+1:n],b[k+1:n]))/A[k,k];\n",
    "    return b\n",
    "\n",
    "#все числа в представлены как вещественные\n",
    "A1 = np.array([[1e-16, 1., -1.], [-1., 2., -1.], [2., -1., 0.]]);\n",
    "b1 = np.array([0., 0., 1.]);\n",
    "\n",
    "A2 = np.array([[2., -1., 0.], [-1., 2., -1.], [1e-16, 1., -1.]])\n",
    "b2 = np.array([1., 0., 0.])"
   ]
  },
  {
   "cell_type": "code",
   "execution_count": 117,
   "metadata": {},
   "outputs": [
    {
     "name": "stdout",
     "output_type": "stream",
     "text": [
      "[[ 1.e-16  1.e+00 -1.e+00]\n",
      " [-1.e+00  2.e+00 -1.e+00]\n",
      " [ 2.e+00 -1.e+00  0.e+00]]\n"
     ]
    }
   ],
   "source": [
    "print(A1)"
   ]
  },
  {
   "cell_type": "code",
   "execution_count": 118,
   "metadata": {},
   "outputs": [
    {
     "name": "stdout",
     "output_type": "stream",
     "text": [
      "[[ 2.e+00 -1.e+00  0.e+00]\n",
      " [-1.e+00  2.e+00 -1.e+00]\n",
      " [ 1.e-16  1.e+00 -1.e+00]]\n"
     ]
    }
   ],
   "source": [
    "print(A2)"
   ]
  },
  {
   "cell_type": "code",
   "execution_count": 119,
   "metadata": {},
   "outputs": [
    {
     "name": "stdout",
     "output_type": "stream",
     "text": [
      "mu1 =  16.39373162228438\n",
      "mu2 =  16.393731622284395\n",
      "u1 =  [0.55511151 0.25       0.25      ]\n",
      "u2 =  [1. 1. 1.]\n"
     ]
    }
   ],
   "source": [
    "A1 = np.array([[1e-16, 1., -1.], [-1., 2., -1.], [2., -1., 0.]]);\n",
    "b1 = np.array([0., 0., 1.]);\n",
    "\n",
    "A2 = np.array([[2., -1., 0.], [-1., 2., -1.], [1e-16, 1., -1.]])\n",
    "b2 = np.array([1., 0., 0.])\n",
    "\n",
    "print('mu1 = ', la.cond(A1))\n",
    "print('mu2 = ', la.cond(A2))\n",
    "\n",
    "print('u1 = ', gauss(A1, b1))\n",
    "#print('u1 = ', la.solve(A1, b1))\n",
    "print('u2 = ', gauss(A2, b2))#la.solve(A2, b2))"
   ]
  },
  {
   "cell_type": "markdown",
   "metadata": {},
   "source": [
    "## Часть 1. LU разложение"
   ]
  },
  {
   "cell_type": "markdown",
   "metadata": {},
   "source": [
    "Задание: \n",
    "\n",
    "реализовать алгоритм решения предыдущей задачи с матрицей A2 с помощью LU-разложение В решении должна выводиться L, U и собственно решение системы. \n",
    "\n",
    "ВАЖНО: реализация метода LU должна быть получена путем небольшой модификации метода gauss!  При это саму реализацию можно разделить на два метода: один метод собственно находит LU разложение (можно сделать переделкой цикла для матрицы A метода gauss), второй метод - непосредственное решение системы с помощью прямого и обратного хода. Ни в каком виде нельзя пользоваться пакетными методами (в частности, la.solve)"
   ]
  },
  {
   "cell_type": "code",
   "execution_count": 120,
   "metadata": {},
   "outputs": [],
   "source": [
    "def LU( A, b ):\n",
    "    n = b.size\n",
    "    f = b.copy()\n",
    "    #создаем матрицу под L\n",
    "    L = np.zeros((n, n))\n",
    "    for i in range(0,n):\n",
    "        L[i,i] = 1\n",
    "    for k in range(0,n-1):\n",
    "        for i in range(k+1,n):\n",
    "            if A[i,k]!=0:\n",
    "                c = A[i,k]/A[k,k]\n",
    "                A[i,k:n] = A[i,k:n] - c*A[k,k:n]\n",
    "                b[i] = b[i] - c*b[k]\n",
    "                L[i,k] = c\n",
    "    #Решаем Lv = f, прямой ход (LUx = f <=> Lv = f, Ux = v)\n",
    "    v = [0]*n\n",
    "    for k in range(0, n):\n",
    "        v[k] = f[k] - np.dot(L[k,], v)\n",
    "    # Решаем Ux = v, обратный ход\n",
    "    x = [0]*n\n",
    "    for k in range(n-1,-1,-1):\n",
    "        x[k] = (v[k] - np.dot(A[k,], x))/A[k,k] \n",
    "    \n",
    "    return L, A, x\n",
    "    "
   ]
  },
  {
   "cell_type": "code",
   "execution_count": 121,
   "metadata": {
    "scrolled": false
   },
   "outputs": [
    {
     "name": "stdout",
     "output_type": "stream",
     "text": [
      "mu2 =  16.393731622284395\n",
      "L = \n",
      " [[ 1.00000000e+00  0.00000000e+00  0.00000000e+00]\n",
      " [-5.00000000e-01  1.00000000e+00  0.00000000e+00]\n",
      " [ 5.00000000e-17  6.66666667e-01  1.00000000e+00]]\n",
      "U = \n",
      " [[ 2.         -1.          0.        ]\n",
      " [ 0.          1.5        -1.        ]\n",
      " [ 0.          0.         -0.33333333]]\n",
      "x =  [1.0, 1.0, 1.0]\n"
     ]
    }
   ],
   "source": [
    "A2 = np.array([[2., -1., 0.], [-1., 2., -1.], [1e-16, 1., -1.]])\n",
    "b2 = np.array([1., 0., 0.])\n",
    "\n",
    "print('mu2 = ', la.cond(A2))\n",
    "\n",
    "L, U, x = LU(A2, b2)\n",
    "\n",
    "print(\"L = \\n\", L)\n",
    "print(\"U = \\n\", U)\n",
    "print(\"x = \", x)"
   ]
  },
  {
   "cell_type": "markdown",
   "metadata": {
    "collapsed": true
   },
   "source": [
    "### LU - разложение с помощью пакета sympy"
   ]
  },
  {
   "cell_type": "markdown",
   "metadata": {},
   "source": [
    "Чтобы убедиться, что разложение получено верно, можно воспользоваться скриптом ниже"
   ]
  },
  {
   "cell_type": "code",
   "execution_count": 122,
   "metadata": {},
   "outputs": [],
   "source": [
    "import sympy as sp\n",
    "\n",
    "#A = sp.Matrix([[2, 3], [5, 4]])\n",
    "A = sp.Matrix([[2., -1., 0.], [-1., 2., -1.], [1e-16, 1., -1.]])\n",
    "L, U, _ = A.LUdecomposition()"
   ]
  },
  {
   "cell_type": "code",
   "execution_count": 123,
   "metadata": {},
   "outputs": [
    {
     "data": {
      "text/latex": [
       "$\\displaystyle \\left[\\begin{matrix}1 & 0 & 0\\\\-0.5 & 1 & 0\\\\5.0 \\cdot 10^{-17} & 0.666666666666667 & 1\\end{matrix}\\right]$"
      ],
      "text/plain": [
       "Matrix([\n",
       "[      1,                 0, 0],\n",
       "[   -0.5,                 1, 0],\n",
       "[5.0e-17, 0.666666666666667, 1]])"
      ]
     },
     "execution_count": 123,
     "metadata": {},
     "output_type": "execute_result"
    }
   ],
   "source": [
    "L"
   ]
  },
  {
   "cell_type": "code",
   "execution_count": 124,
   "metadata": {},
   "outputs": [
    {
     "data": {
      "text/latex": [
       "$\\displaystyle \\left[\\begin{matrix}2.0 & -1.0 & 0.0\\\\0 & 1.5 & -1.0\\\\0 & 0 & -0.333333333333333\\end{matrix}\\right]$"
      ],
      "text/plain": [
       "Matrix([\n",
       "[2.0, -1.0,                0.0],\n",
       "[  0,  1.5,               -1.0],\n",
       "[  0,    0, -0.333333333333333]])"
      ]
     },
     "execution_count": 124,
     "metadata": {},
     "output_type": "execute_result"
    }
   ],
   "source": [
    "U"
   ]
  },
  {
   "cell_type": "markdown",
   "metadata": {},
   "source": [
    "## Часть 2. Нахождение обратной матрицы с помощью LU разложения"
   ]
  },
  {
   "cell_type": "markdown",
   "metadata": {},
   "source": [
    "Задание:\n",
    "\n",
    "Предложить алгоритм с использованием LU-разложения и найти обратную матрицу с точностью $\\epsilon = 10^{-3}$:\n",
    "$$\n",
    "A = \\begin{pmatrix} \n",
    "1 & 1  & 1 \\\\\n",
    "0 & 1 & 2 \\\\\n",
    "7 & 1 & 4 \\\\\n",
    "\\end{pmatrix}\n",
    "$$\n",
    "Для необходимых оценок использовать первую норму. Сравнить результат со значением, найденным с помощью функции numpy.inv."
   ]
  },
  {
   "cell_type": "markdown",
   "metadata": {},
   "source": [
    "    Aлгоритм:\n",
    "Находим $LU$-разложение. $A = LU$. Теперь решаем $n$ систем уравнений вида $LUa_i = E_i$, где $a_i$ и $E_i$ $i$-ые столбцы матриц $A^{-1}$ и единичной $E$ соответственно. Находим все столбцы и составляем ответ. Каждый столбец $a_i$ нахожу, как и в предыдущем пункте:\n",
    "1. Решаю $Lv_i = E_i$, где $v_i = Ua_i$\n",
    "2. Дальше решаем $Ua_i = v_i$\n",
    " Я буду пользоваться уже написанной функцией для $LU$-разложения."
   ]
  },
  {
   "cell_type": "code",
   "execution_count": 125,
   "metadata": {},
   "outputs": [],
   "source": [
    "#создаем, чтобы не засорять, дополнительно функции для прямого и обратного хода:\n",
    "def straight(L, e):\n",
    "    n = e.size\n",
    "    v = [0]*n\n",
    "    for k in range(0, n):\n",
    "        v[k] = e[k] - np.dot(L[k,], v)\n",
    "    return np.array(v)\n",
    "\n",
    "def back(U, v):\n",
    "    n = v.size\n",
    "    x = [0]*n\n",
    "    for k in range(n-1,-1,-1):\n",
    "        x[k] = (v[k] - np.dot(A[k,], x))/A[k,k]\n",
    "    return x\n"
   ]
  },
  {
   "cell_type": "code",
   "execution_count": 126,
   "metadata": {},
   "outputs": [],
   "source": [
    "#A^{-1} обозначим A_1\n",
    "def inverse_matrix(A):\n",
    "    n = len(A)\n",
    "    A_1 = np.zeros((n,n))\n",
    "    L, U, _ = LU(A, np.array([0, 0, 0]))\n",
    "    E = np.eye(3)\n",
    "    for i in range(0, n):\n",
    "        A_1[:, i] = back(U, straight(L, E[:, i]))\n",
    "    return A_1"
   ]
  },
  {
   "cell_type": "code",
   "execution_count": 127,
   "metadata": {},
   "outputs": [
    {
     "name": "stdout",
     "output_type": "stream",
     "text": [
      "[[ 0.22222222 -0.33333333  0.11111111]\n",
      " [ 1.55555556 -0.33333333 -0.22222222]\n",
      " [-0.77777778  0.66666667  0.11111111]]\n"
     ]
    }
   ],
   "source": [
    "A = np.array([[1, 1, 1], [0, 1, 2], [7, 1, 4]])\n",
    "print(inverse_matrix(A))"
   ]
  },
  {
   "cell_type": "markdown",
   "metadata": {},
   "source": [
    "Проверим наш ответ"
   ]
  },
  {
   "cell_type": "code",
   "execution_count": 128,
   "metadata": {
    "scrolled": true
   },
   "outputs": [
    {
     "data": {
      "text/plain": [
       "array([[ 0.22222222, -0.33333333,  0.11111111],\n",
       "       [ 1.55555556, -0.33333333, -0.22222222],\n",
       "       [-0.77777778,  0.66666667,  0.11111111]])"
      ]
     },
     "execution_count": 128,
     "metadata": {},
     "output_type": "execute_result"
    }
   ],
   "source": [
    "A = np.array([[1, 1, 1], [0, 1, 2], [7, 1, 4]])\n",
    "la.inv(A)"
   ]
  },
  {
   "cell_type": "markdown",
   "metadata": {},
   "source": [
    "Число обусловленности матрицы $\\mu(A) = 8*\\frac{23}{9}$"
   ]
  }
 ],
 "metadata": {
  "anaconda-cloud": {},
  "kernelspec": {
   "display_name": "Python 3",
   "language": "python",
   "name": "python3"
  },
  "language_info": {
   "codemirror_mode": {
    "name": "ipython",
    "version": 3
   },
   "file_extension": ".py",
   "mimetype": "text/x-python",
   "name": "python",
   "nbconvert_exporter": "python",
   "pygments_lexer": "ipython3",
   "version": "3.8.8"
  }
 },
 "nbformat": 4,
 "nbformat_minor": 2
}
